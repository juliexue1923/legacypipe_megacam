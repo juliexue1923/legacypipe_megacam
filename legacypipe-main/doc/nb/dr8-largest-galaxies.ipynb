{
 "cells": [
  {
   "cell_type": "code",
   "execution_count": 1,
   "metadata": {},
   "outputs": [],
   "source": [
    "import os\n",
    "import numpy as np\n",
    "import matplotlib.pyplot as plt"
   ]
  },
  {
   "cell_type": "code",
   "execution_count": 45,
   "metadata": {},
   "outputs": [],
   "source": [
    "import fitsio\n",
    "from astropy.table import Table\n",
    "from astrometry.util.fits import fits_table"
   ]
  },
  {
   "cell_type": "code",
   "execution_count": 35,
   "metadata": {},
   "outputs": [],
   "source": [
    "from legacypipe.runs import get_survey\n",
    "from legacypipe.survey import bricks_touching_wcs, ccds_touching_wcs\n",
    "from legacypipe.survey import LegacySurveyData"
   ]
  },
  {
   "cell_type": "code",
   "execution_count": 3,
   "metadata": {},
   "outputs": [],
   "source": [
    "%matplotlib inline"
   ]
  },
  {
   "cell_type": "code",
   "execution_count": 16,
   "metadata": {},
   "outputs": [],
   "source": [
    "output_dir = '/global/cscratch1/sd/ioannis/dr8/largest-gals'\n",
    "SURVEY_DIR = '/global/project/projectdirs/cosmo/work/legacysurvey/dr8'\n",
    "LSLGA_DIR = '/global/project/projectdirs/cosmo/staging/largegalaxies/v2.0'"
   ]
  },
  {
   "cell_type": "code",
   "execution_count": 46,
   "metadata": {},
   "outputs": [],
   "source": [
    "LSLGA = fits_table(os.path.join(LSLGA_DIR, 'LSLGA-v2.0.fits'))"
   ]
  },
  {
   "cell_type": "code",
   "execution_count": 11,
   "metadata": {},
   "outputs": [],
   "source": [
    "def read_all_ccds(dr='dr8'):\n",
    "    \"\"\"Read the CCDs files, treating DECaLS and BASS+MzLS separately.\n",
    "\n",
    "    \"\"\"\n",
    "    from astrometry.libkd.spherematch import tree_open\n",
    "    #survey = LegacySurveyData()\n",
    "\n",
    "    kdccds_north = []\n",
    "    for camera in ('90prime', 'mosaic'):\n",
    "        ccdsfile = os.path.join(SURVEY_DIR, 'survey-ccds-{}-{}.kd.fits'.format(camera, dr))\n",
    "        ccds = tree_open(ccdsfile, 'ccds')\n",
    "        print('Read {} CCDs from {}'.format(ccds.n, ccdsfile))\n",
    "        kdccds_north.append((ccdsfile, ccds))\n",
    "\n",
    "    ccdsfile = os.path.join(SURVEY_DIR, 'survey-ccds-decam-{}.kd.fits'.format(dr))\n",
    "    ccds = tree_open(ccdsfile, 'ccds')\n",
    "    print('Read {} CCDs from {}'.format(ccds.n, ccdsfile))\n",
    "    kdccds_south = (ccdsfile, ccds)\n",
    "\n",
    "    return kdccds_north, kdccds_south"
   ]
  },
  {
   "cell_type": "code",
   "execution_count": 49,
   "metadata": {},
   "outputs": [],
   "source": [
    "def simple_wcs(ra, dec, radius_arcmin, factor=1.0, pixscale=0.262):\n",
    "    '''Build a simple WCS object for a single galaxy.\n",
    "    \n",
    "    '''\n",
    "    from astrometry.util.util import Tan\n",
    "    \n",
    "    diam = np.ceil(factor * radius_arcmin * 60 / pixscale).astype('int') # [pixels]\n",
    "    #print(ra, dec, diam)\n",
    "    simplewcs = Tan(ra, dec, diam/2+0.5, diam/2+0.5,\n",
    "                    -pixscale/3600.0, 0.0, 0.0, pixscale/3600.0, \n",
    "                    float(diam), float(diam))\n",
    "    return simplewcs"
   ]
  },
  {
   "cell_type": "code",
   "execution_count": 50,
   "metadata": {},
   "outputs": [],
   "source": [
    "#kdccds_north, kdccds_south = read_all_ccds()"
   ]
  },
  {
   "cell_type": "code",
   "execution_count": 51,
   "metadata": {},
   "outputs": [
    {
     "data": {
      "text/plain": [
       "<tabledata object with 1 rows and 49 columns: lslga_id=1073844, galaxy=NGC5194, pgc=47404, ra=202.469547, dec=47.195151, type=SABb, bar=B, ring=nan, multiple=M, compactness=nan, t=4.0, pa=163.0, d25=13.708821, ba=0.85113806, diam_ref=iso, z=0.0015370633, sb_d25=22.921482, mag=8.608, mag_ref=B, wise_ra=202.4696996, wise_dec=47.1951717, cntr=2029146901351042304, w1mpro=8.84, w1sigmpro=0.024, w2mpro=8.664, w2sigmpro=0.02, w3mpro=6.19, w3sigmpro=0.023, w4mpro=3.386, w4sigmpro=0.036, rchi2=46.18, cc_flags=hhdd, ext_flg=5, ph_qual=AAAA, xscprox=0.43, w1rsemi=180.0, w1ba=0.91, w1pa=45.0, w1gmag=5.43, w1gerr=0.014, w2gmag=5.404, w2gerr=0.006, w3gmag=1.509, w3gerr=0.006, w4gmag=-0.28, w4gerr=0.03, in_allwise=True, in_desi=True, near_brightstar=False>"
      ]
     },
     "execution_count": 51,
     "metadata": {},
     "output_type": "execute_result"
    }
   ],
   "source": [
    "big = LSLGA[LSLGA.galaxy == 'NGC5194'][0]\n",
    "wcs = simple_wcs(big.ra, big.dec, big.d25, factor=1.2)\n",
    "big"
   ]
  },
  {
   "cell_type": "code",
   "execution_count": 52,
   "metadata": {},
   "outputs": [],
   "source": [
    "survey = get_survey('90prime-mosaic', survey_dir=SURVEY_DIR, output_dir=output_dir)"
   ]
  },
  {
   "cell_type": "code",
   "execution_count": 57,
   "metadata": {},
   "outputs": [
    {
     "name": "stdout",
     "output_type": "stream",
     "text": [
      "9 bricks nearby\n",
      "No overlap with brick 2018p472\n",
      "No overlap with brick 2029p472\n",
      "No overlap with brick 2023p475\n",
      "No overlap with brick 2026p475\n"
     ]
    }
   ],
   "source": [
    "ccds, bricks = survey.ccds_touching_wcs(wcs), bricks_touching_wcs(wcs, survey=survey)"
   ]
  },
  {
   "cell_type": "code",
   "execution_count": 60,
   "metadata": {},
   "outputs": [
    {
     "data": {
      "text/plain": [
       "(29, 18)"
      ]
     },
     "execution_count": 60,
     "metadata": {},
     "output_type": "execute_result"
    }
   ],
   "source": [
    "len(ccds), len(np.unique(ccds.image_filename))"
   ]
  },
  {
   "cell_type": "code",
   "execution_count": 56,
   "metadata": {},
   "outputs": [
    {
     "data": {
      "text/plain": [
       "<matplotlib.collections.PathCollection at 0x2aaae3bb93c8>"
      ]
     },
     "execution_count": 56,
     "metadata": {},
     "output_type": "execute_result"
    },
    {
     "data": {
      "image/png": "[encoded data removed]",
      "text/plain": [
       "<matplotlib.figure.Figure at 0x2aaae368b1d0>"
      ]
     },
     "metadata": {
      "needs_background": "light"
     },
     "output_type": "display_data"
    }
   ],
   "source": [
    "plt.scatter(big.ra, big.dec, marker='x')\n",
    "plt.scatter(ccds.ra, ccds.dec)"
   ]
  },
  {
   "cell_type": "code",
   "execution_count": null,
   "metadata": {},
   "outputs": [],
   "source": []
  }
 ],
 "metadata": {
  "kernelspec": {
   "display_name": "legacypipe master",
   "language": "python",
   "name": "legacypipe-master"
  },
  "language_info": {
   "codemirror_mode": {
    "name": "ipython",
    "version": 3
   },
   "file_extension": ".py",
   "mimetype": "text/x-python",
   "name": "python",
   "nbconvert_exporter": "python",
   "pygments_lexer": "ipython3",
   "version": "3.6.6"
  }
 },
 "nbformat": 4,
 "nbformat_minor": 2
}
