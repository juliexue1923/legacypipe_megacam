{
 "cells": [
  {
   "cell_type": "markdown",
   "metadata": {},
   "source": [
    "# Check LSLGA in DR8\n",
    "\n",
    "#### John Moustakas"
   ]
  },
  {
   "cell_type": "code",
   "execution_count": 1,
   "metadata": {},
   "outputs": [],
   "source": [
    "import os, pdb\n",
    "import numpy as np\n",
    "from glob import glob\n",
    "import fitsio\n",
    "from astropy.table import vstack, Table, hstack"
   ]
  },
  {
   "cell_type": "code",
   "execution_count": 2,
   "metadata": {},
   "outputs": [],
   "source": [
    "import seaborn as sns\n",
    "sns.set(context='talk', style='ticks', font_scale=1.6)\n",
    "%matplotlib inline"
   ]
  },
  {
   "cell_type": "code",
   "execution_count": 4,
   "metadata": {},
   "outputs": [],
   "source": [
    "dr8dir = '/global/project/projectdirs/cosmo/data/legacysurvey/dr8'\n",
    "outdir = '/global/project/projectdirs/desi/users/ioannis/dr8-lslga'\n",
    "lslgafile = '/global/project/projectdirs/cosmo/staging/largegalaxies/v2.0/LSLGA-v2.0.fits'"
   ]
  },
  {
   "cell_type": "code",
   "execution_count": 5,
   "metadata": {},
   "outputs": [],
   "source": [
    "lslga = Table(fitsio.read(lslgafile))\n",
    "#lslga"
   ]
  },
  {
   "cell_type": "code",
   "execution_count": 19,
   "metadata": {},
   "outputs": [],
   "source": [
    "def build_lslga_dr8(northsouth, overwrite=False):\n",
    "    cols = ['RA', 'DEC', 'TYPE', 'BRICKNAME', 'REF_CAT', \n",
    "            'FRACDEV', 'SHAPEEXP_R', 'SHAPEEXP_E1', 'SHAPEEXP_E2',\n",
    "            'SHAPEDEV_R', 'SHAPEDEV_E1', 'SHAPEDEV_E2', 'REF_ID']\n",
    "\n",
    "    outfile = os.path.join(outdir, 'dr8-lslga-{}.fits'.format(northsouth))\n",
    "    if not os.path.isfile(outfile) or overwrite:\n",
    "        out = []\n",
    "        catfile = glob(os.path.join(dr8dir, northsouth, 'sweep', '8.0', 'sweep-*.fits'))\n",
    "        #catfile = glob(os.path.join(dr8dir, northsouth, 'tractor', '???', 'tractor*.fits'))\n",
    "        for ii, ff in enumerate(catfile):#[:3]):\n",
    "            if ii % 20 == 0:\n",
    "                print('{} / {}'.format(ii, len(catfile)))\n",
    "            cc = fitsio.read(ff, columns=cols, upper=True)\n",
    "            ckeep = np.where(cc['REF_CAT'] == b'L2')[0]\n",
    "            out.append(Table(cc[ckeep]))\n",
    "        out = vstack(out)\n",
    "        \n",
    "        # find and remove duplicates\n",
    "        #uval, cnt = np.unique(out['REF_ID'], return_counts=True)\n",
    "        #dup_refid = uval[cnt > 1]\n",
    "\n",
    "        # now match against the LSLGA\n",
    "        match = np.hstack([np.where(refid == lslga['LSLGA_ID'])[0] for refid in out['REF_ID']])\n",
    "        \n",
    "        lss = lslga[match]\n",
    "        lss.rename_column('RA', 'RA_LSLGA')\n",
    "        lss.rename_column('DEC', 'DEC_LSLGA')\n",
    "        lss.rename_column('TYPE', 'MORPHTYPE')\n",
    "\n",
    "        out = hstack((lss, out))\n",
    "        \n",
    "        print('Writing {}'.format(outfile))\n",
    "        out.write(outfile, overwrite=True)\n",
    "    else:\n",
    "        print('Reading {}'.format(outfile))\n",
    "        out = Table(fitsio.read(outfile))\n",
    "    return out        "
   ]
  },
  {
   "cell_type": "code",
   "execution_count": 20,
   "metadata": {},
   "outputs": [
    {
     "name": "stdout",
     "output_type": "stream",
     "text": [
      "0 / 286\n",
      "20 / 286\n",
      "40 / 286\n",
      "60 / 286\n",
      "80 / 286\n",
      "100 / 286\n",
      "120 / 286\n",
      "140 / 286\n",
      "160 / 286\n",
      "180 / 286\n",
      "200 / 286\n",
      "220 / 286\n",
      "240 / 286\n",
      "260 / 286\n",
      "280 / 286\n",
      "Writing /global/project/projectdirs/desi/users/ioannis/dr8-lslga/dr8-lslga-north.fits\n",
      "CPU times: user 2min 44s, sys: 56.9 s, total: 3min 41s\n",
      "Wall time: 4min 10s\n"
     ]
    }
   ],
   "source": [
    "%time north = build_lslga_dr8('north', overwrite=False)"
   ]
  },
  {
   "cell_type": "code",
   "execution_count": 22,
   "metadata": {},
   "outputs": [
    {
     "name": "stdout",
     "output_type": "stream",
     "text": [
      "0 / 437\n",
      "20 / 437\n",
      "40 / 437\n",
      "60 / 437\n",
      "80 / 437\n",
      "100 / 437\n",
      "120 / 437\n",
      "140 / 437\n",
      "160 / 437\n",
      "180 / 437\n",
      "200 / 437\n",
      "220 / 437\n",
      "240 / 437\n",
      "260 / 437\n",
      "280 / 437\n",
      "300 / 437\n",
      "320 / 437\n",
      "340 / 437\n",
      "360 / 437\n",
      "380 / 437\n",
      "400 / 437\n",
      "420 / 437\n",
      "Writing /global/project/projectdirs/desi/users/ioannis/dr8-lslga/dr8-lslga-south.fits\n",
      "CPU times: user 9min 18s, sys: 3min 34s, total: 12min 53s\n",
      "Wall time: 13min 52s\n"
     ]
    }
   ],
   "source": [
    "%time south = build_lslga_dr8('south', overwrite=False)"
   ]
  },
  {
   "cell_type": "code",
   "execution_count": 47,
   "metadata": {},
   "outputs": [],
   "source": [
    "def merge_north_south(overwrite=False):\n",
    "    mergedfile = os.path.join(outdir, 'dr8-lslga-northsouth.fits')\n",
    "    if not os.path.isfile(mergedfile) or overwrite:\n",
    "        out = []\n",
    "        for northsouth in ('north', 'south'):\n",
    "            catfile = os.path.join(outdir, 'dr8-lslga-{}.fits'.format(northsouth))\n",
    "            cat = Table(fitsio.read(catfile))\n",
    "            cat['REGION'] = northsouth\n",
    "            out.append(cat)\n",
    "        out = vstack(out)\n",
    "        print('Writing {}'.format(mergedfile))\n",
    "        out.write(mergedfile, overwrite=True)\n",
    "    else:\n",
    "        print('Reading {}'.format(mergedfile))\n",
    "        out = Table(fitsio.read(mergedfile))\n",
    "    return out"
   ]
  },
  {
   "cell_type": "code",
   "execution_count": 48,
   "metadata": {},
   "outputs": [
    {
     "name": "stdout",
     "output_type": "stream",
     "text": [
      "Writing /global/project/projectdirs/desi/users/ioannis/dr8-lslga/dr8-lslga-northsouth.fits\n",
      "CPU times: user 16.5 s, sys: 426 ms, total: 16.9 s\n",
      "Wall time: 17.6 s\n"
     ]
    }
   ],
   "source": [
    "%time cat = merge_north_south(overwrite=True)"
   ]
  },
  {
   "cell_type": "code",
   "execution_count": 49,
   "metadata": {},
   "outputs": [
    {
     "data": {
      "text/html": [
       "&lt;Table length=403604&gt;\n",
       "<table id=\"table46913323036568\" class=\"table-striped table-bordered table-condensed\">\n",
       "<thead><tr><th>LSLGA_ID</th><th>GALAXY</th><th>PGC</th><th>RA_LSLGA</th><th>DEC_LSLGA</th><th>MORPHTYPE</th><th>BAR</th><th>RING</th><th>MULTIPLE</th><th>COMPACTNESS</th><th>T</th><th>PA</th><th>D25</th><th>BA</th><th>DIAM_REF</th><th>Z</th><th>SB_D25</th><th>MAG</th><th>MAG_REF</th><th>WISE_RA</th><th>WISE_DEC</th><th>CNTR</th><th>W1MPRO</th><th>W1SIGMPRO</th><th>W2MPRO</th><th>W2SIGMPRO</th><th>W3MPRO</th><th>W3SIGMPRO</th><th>W4MPRO</th><th>W4SIGMPRO</th><th>RCHI2</th><th>CC_FLAGS</th><th>EXT_FLG</th><th>PH_QUAL</th><th>XSCPROX</th><th>W1RSEMI</th><th>W1BA</th><th>W1PA</th><th>W1GMAG</th><th>W1GERR</th><th>W2GMAG</th><th>W2GERR</th><th>W3GMAG</th><th>W3GERR</th><th>W4GMAG</th><th>W4GERR</th><th>IN_ALLWISE</th><th>IN_DESI</th><th>NEAR_BRIGHTSTAR</th><th>BRICKNAME</th><th>TYPE</th><th>RA</th><th>DEC</th><th>FRACDEV</th><th>SHAPEDEV_R</th><th>SHAPEDEV_E1</th><th>SHAPEDEV_E2</th><th>SHAPEEXP_R</th><th>SHAPEEXP_E1</th><th>SHAPEEXP_E2</th><th>REF_CAT</th><th>REF_ID</th><th>REGION</th></tr></thead>\n",
       "<thead><tr><th>int64</th><th>bytes29</th><th>int64</th><th>float64</th><th>float64</th><th>bytes4</th><th>bytes3</th><th>bytes3</th><th>bytes3</th><th>bytes3</th><th>float32</th><th>float32</th><th>float32</th><th>float32</th><th>bytes3</th><th>float32</th><th>float32</th><th>float32</th><th>bytes1</th><th>float64</th><th>float64</th><th>int64</th><th>float64</th><th>float64</th><th>float64</th><th>float64</th><th>float64</th><th>float64</th><th>float64</th><th>float64</th><th>float32</th><th>bytes4</th><th>int32</th><th>bytes4</th><th>float64</th><th>float64</th><th>float64</th><th>float64</th><th>float64</th><th>float64</th><th>float64</th><th>float64</th><th>float64</th><th>float64</th><th>float64</th><th>float64</th><th>bool</th><th>bool</th><th>bool</th><th>bytes8</th><th>bytes4</th><th>float64</th><th>float64</th><th>float32</th><th>float32</th><th>float32</th><th>float32</th><th>float32</th><th>float32</th><th>float32</th><th>bytes2</th><th>int64</th><th>str5</th></tr></thead>\n",
       "<tr><td>14446</td><td>PGC1884023</td><td>1884023</td><td>141.4297125</td><td>29.9424196</td><td>E?</td><td>nan</td><td>nan</td><td>nan</td><td>nan</td><td>-5.0</td><td>94.47</td><td>0.36307806</td><td>0.36307806</td><td>iso</td><td>0.059890766</td><td>24.66048</td><td>18.232</td><td>B</td><td>141.4298823</td><td>29.9424617</td><td>1408130201351023996</td><td>13.668</td><td>0.025</td><td>13.434</td><td>0.032</td><td>10.085</td><td>0.062</td><td>8.421</td><td>0.314</td><td>1.954</td><td>0000</td><td>1</td><td>AAAB</td><td>nan</td><td>nan</td><td>nan</td><td>nan</td><td>nan</td><td>nan</td><td>nan</td><td>nan</td><td>nan</td><td>nan</td><td>nan</td><td>nan</td><td>True</td><td>True</td><td>False</td><td>1415p300</td><td>EXP</td><td>141.42986142163176</td><td>29.942504249477427</td><td>0.0</td><td>0.0</td><td>0.0</td><td>0.0</td><td>4.4602566</td><td>-0.57790524</td><td>-0.10098956</td><td>L2</td><td>14446</td><td>north</td></tr>\n",
       "<tr><td>360448</td><td>PGC1885932</td><td>1885932</td><td>142.50464399999998</td><td>29.992207699999998</td><td>SBc</td><td>B</td><td>nan</td><td>nan</td><td>nan</td><td>4.9</td><td>36.43</td><td>0.4365158</td><td>0.8128305</td><td>iso</td><td>0.02685391</td><td>23.349482</td><td>16.521</td><td>B</td><td>142.5046815</td><td>29.9922294</td><td>1426130201351018332</td><td>13.98</td><td>0.028</td><td>13.857</td><td>0.041</td><td>10.689</td><td>0.104</td><td>8.44</td><td>nan</td><td>4.021</td><td>0000</td><td>5</td><td>AAAU</td><td>0.08</td><td>10.05</td><td>0.71</td><td>25.0</td><td>13.72</td><td>0.014</td><td>13.717</td><td>0.034</td><td>11.118</td><td>0.087</td><td>9.533</td><td>0.729</td><td>True</td><td>True</td><td>False</td><td>1424p300</td><td>DEV</td><td>142.50473664208823</td><td>29.992406310953097</td><td>1.0</td><td>52.381897</td><td>0.09154045</td><td>0.2133891</td><td>0.0</td><td>0.0</td><td>0.0</td><td>L2</td><td>360448</td><td>north</td></tr>\n",
       "<tr><td>991749</td><td>PGC1867183</td><td>1867183</td><td>147.14676899999998</td><td>29.466061199999995</td><td>S?</td><td>nan</td><td>nan</td><td>nan</td><td>nan</td><td>3.0</td><td>88.48</td><td>0.56234133</td><td>0.22908677</td><td>iso</td><td>0.11317162</td><td>25.73748</td><td>18.359</td><td>B</td><td>147.1462573</td><td>29.4661434</td><td>1474128701351060944</td><td>14.084</td><td>0.033</td><td>13.755</td><td>0.042</td><td>10.772</td><td>0.119</td><td>8.672</td><td>nan</td><td>1.296</td><td>0000</td><td>0</td><td>AABU</td><td>nan</td><td>nan</td><td>nan</td><td>nan</td><td>nan</td><td>nan</td><td>nan</td><td>nan</td><td>nan</td><td>nan</td><td>nan</td><td>nan</td><td>True</td><td>True</td><td>False</td><td>1471p295</td><td>COMP</td><td>147.1468837545257</td><td>29.466073158523283</td><td>0.2651534</td><td>5.2139215</td><td>0.034630653</td><td>-0.0051687364</td><td>12.5653105</td><td>-0.8454735</td><td>0.09161035</td><td>L2</td><td>991749</td><td>north</td></tr>\n",
       "<tr><td>936109</td><td>UGC04983</td><td>26553</td><td>140.72431650000001</td><td>29.3290403</td><td>SABc</td><td>B</td><td>nan</td><td>nan</td><td>D</td><td>5.0</td><td>5.3</td><td>0.6382635</td><td>0.8550667</td><td>iso</td><td>0.022450864</td><td>23.38848</td><td>15.735</td><td>B</td><td>140.724223</td><td>29.3290205</td><td>1405128701351058141</td><td>14.273</td><td>0.03</td><td>14.108</td><td>0.044</td><td>10.647</td><td>0.09</td><td>8.667</td><td>0.398</td><td>3.532</td><td>0000</td><td>5</td><td>AAAC</td><td>1.41</td><td>10.56</td><td>0.78</td><td>25.0</td><td>13.64</td><td>0.01</td><td>13.636</td><td>0.047</td><td>10.754</td><td>0.065</td><td>9.293</td><td>0.735</td><td>True</td><td>True</td><td>False</td><td>1406p292</td><td>COMP</td><td>140.7242657457912</td><td>29.32901976270882</td><td>0.015535885</td><td>0.64649796</td><td>-0.18028057</td><td>0.39984426</td><td>15.1308975</td><td>0.0042260797</td><td>0.033641696</td><td>L2</td><td>936109</td><td>north</td></tr>\n",
       "<tr><td>1288301</td><td>PGC1868960</td><td>1868960</td><td>149.5192515</td><td>29.521296399999997</td><td>Sbc</td><td>nan</td><td>nan</td><td>nan</td><td>nan</td><td>3.8</td><td>78.87</td><td>0.33884412</td><td>0.53703177</td><td>iso</td><td>0.08934914</td><td>23.968481</td><td>17.69</td><td>B</td><td>149.519224</td><td>29.5213114</td><td>1491128701351055561</td><td>14.096</td><td>0.027</td><td>13.911</td><td>0.039</td><td>10.559</td><td>0.083</td><td>8.543</td><td>0.314</td><td>1.657</td><td>d000</td><td>0</td><td>AAAB</td><td>nan</td><td>nan</td><td>nan</td><td>nan</td><td>nan</td><td>nan</td><td>nan</td><td>nan</td><td>nan</td><td>nan</td><td>nan</td><td>nan</td><td>True</td><td>True</td><td>False</td><td>1494p295</td><td>EXP</td><td>149.5191878163415</td><td>29.52129808015057</td><td>0.0</td><td>0.0</td><td>0.0</td><td>0.0</td><td>4.19832</td><td>-0.39955872</td><td>0.17533746</td><td>L2</td><td>1288301</td><td>north</td></tr>\n",
       "<tr><td>480891</td><td>IC2490</td><td>27121</td><td>143.26513500000001</td><td>29.9283201</td><td>SABb</td><td>B</td><td>nan</td><td>nan</td><td>nan</td><td>3.6</td><td>177.2</td><td>0.9660509</td><td>0.674528</td><td>iso</td><td>0.02446459</td><td>23.152481</td><td>14.599</td><td>B</td><td>143.2652455</td><td>29.92837</td><td>1426130201351023644</td><td>11.332</td><td>0.022</td><td>11.429</td><td>0.021</td><td>8.994</td><td>0.033</td><td>6.95</td><td>0.096</td><td>18.4</td><td>0000</td><td>5</td><td>AAAA</td><td>0.91</td><td>17.45</td><td>0.76</td><td>-5.0</td><td>10.977</td><td>0.006</td><td>10.973</td><td>0.008</td><td>8.411</td><td>0.014</td><td>6.713</td><td>0.073</td><td>True</td><td>True</td><td>False</td><td>1432p300</td><td>COMP</td><td>143.26517134982532</td><td>29.928353140597498</td><td>0.56626886</td><td>8.513987</td><td>0.21420135</td><td>-0.081731275</td><td>13.310233</td><td>0.15006962</td><td>0.03789386</td><td>L2</td><td>480891</td><td>north</td></tr>\n",
       "<tr><td>1270041</td><td>SDSSJ095530.97+295527.8</td><td>4090945</td><td>148.8789615</td><td>29.9243707</td><td>nan</td><td>nan</td><td>nan</td><td>nan</td><td>nan</td><td>nan</td><td>145.74</td><td>0.33777565</td><td>0.43179256</td><td>r</td><td>0.25245062</td><td>25.000622</td><td>18.729</td><td>B</td><td>148.8788579</td><td>29.9244662</td><td>1495130201351013571</td><td>14.34</td><td>0.028</td><td>13.97</td><td>0.038</td><td>11.853</td><td>0.287</td><td>8.297</td><td>nan</td><td>1.739</td><td>0000</td><td>1</td><td>AABU</td><td>nan</td><td>nan</td><td>nan</td><td>nan</td><td>nan</td><td>nan</td><td>nan</td><td>nan</td><td>nan</td><td>nan</td><td>nan</td><td>nan</td><td>True</td><td>True</td><td>False</td><td>1487p300</td><td>EXP</td><td>148.87904149285077</td><td>29.92440351817941</td><td>0.0</td><td>0.0</td><td>0.0</td><td>0.0</td><td>4.775446</td><td>0.11539114</td><td>-0.03364276</td><td>L2</td><td>1270041</td><td>north</td></tr>\n",
       "<tr><td>1284218</td><td>PGC1865850</td><td>1865850</td><td>146.76963750000002</td><td>29.423734000000003</td><td>E</td><td>nan</td><td>nan</td><td>M</td><td>nan</td><td>-5.0</td><td>23.85</td><td>0.3548134</td><td>0.60255957</td><td>iso</td><td>0.09890408</td><td>23.50048</td><td>17.122</td><td>B</td><td>146.7696895</td><td>29.4235671</td><td>1474128701351063604</td><td>13.253</td><td>0.041</td><td>13.143</td><td>0.044</td><td>11.947</td><td>0.429</td><td>8.102</td><td>nan</td><td>1.386</td><td>0000</td><td>0</td><td>AACU</td><td>nan</td><td>nan</td><td>nan</td><td>nan</td><td>nan</td><td>nan</td><td>nan</td><td>nan</td><td>nan</td><td>nan</td><td>nan</td><td>nan</td><td>True</td><td>True</td><td>False</td><td>1468p295</td><td>DEV</td><td>146.76973598934526</td><td>29.42375041520909</td><td>1.0</td><td>3.208745</td><td>0.120485626</td><td>0.10894058</td><td>0.0</td><td>0.0</td><td>0.0</td><td>L2</td><td>1284218</td><td>north</td></tr>\n",
       "<tr><td>817184</td><td>PGC1879335</td><td>1879335</td><td>143.66613</td><td>29.8195847</td><td>S?</td><td>nan</td><td>nan</td><td>nan</td><td>nan</td><td>0.4</td><td>42.01</td><td>0.60255957</td><td>0.33884415</td><td>iso</td><td>0.06256895</td><td>23.96648</td><td>16.438</td><td>B</td><td>143.666128</td><td>29.8195638</td><td>1443130201351013246</td><td>12.63</td><td>0.024</td><td>12.561</td><td>0.025</td><td>10.348</td><td>0.082</td><td>8.277</td><td>0.292</td><td>7.308</td><td>0000</td><td>5</td><td>AAAB</td><td>0.5</td><td>17.11</td><td>0.5</td><td>40.0</td><td>12.348</td><td>0.007</td><td>12.299</td><td>0.012</td><td>10.415</td><td>0.068</td><td>8.894</td><td>0.589</td><td>True</td><td>True</td><td>False</td><td>1436p297</td><td>COMP</td><td>143.66621824241088</td><td>29.81953284131401</td><td>0.4237717</td><td>5.2214775</td><td>0.021360768</td><td>0.16508715</td><td>10.068884</td><td>0.037158575</td><td>0.7094191</td><td>L2</td><td>817184</td><td>north</td></tr>\n",
       "<tr><td>826763</td><td>PGC1879595</td><td>1879595</td><td>143.7142035</td><td>29.8259234</td><td>Sc</td><td>nan</td><td>nan</td><td>nan</td><td>nan</td><td>4.7</td><td>81.68</td><td>0.58884364</td><td>0.29512095</td><td>iso</td><td>0.06250257</td><td>24.832481</td><td>17.354</td><td>B</td><td>143.714869</td><td>29.8259378</td><td>1443130201351013278</td><td>14.159</td><td>0.035</td><td>13.961</td><td>0.046</td><td>10.923</td><td>0.143</td><td>8.22</td><td>nan</td><td>1.386</td><td>0000</td><td>4</td><td>AABU</td><td>2.35</td><td>nan</td><td>nan</td><td>nan</td><td>nan</td><td>nan</td><td>nan</td><td>nan</td><td>nan</td><td>nan</td><td>nan</td><td>nan</td><td>True</td><td>True</td><td>False</td><td>1436p297</td><td>COMP</td><td>143.71419130084442</td><td>29.825889054174777</td><td>0.11857182</td><td>2.4860249</td><td>-0.28585702</td><td>-0.09267138</td><td>11.205339</td><td>-0.71906227</td><td>0.25517362</td><td>L2</td><td>826763</td><td>north</td></tr>\n",
       "<tr><td>...</td><td>...</td><td>...</td><td>...</td><td>...</td><td>...</td><td>...</td><td>...</td><td>...</td><td>...</td><td>...</td><td>...</td><td>...</td><td>...</td><td>...</td><td>...</td><td>...</td><td>...</td><td>...</td><td>...</td><td>...</td><td>...</td><td>...</td><td>...</td><td>...</td><td>...</td><td>...</td><td>...</td><td>...</td><td>...</td><td>...</td><td>...</td><td>...</td><td>...</td><td>...</td><td>...</td><td>...</td><td>...</td><td>...</td><td>...</td><td>...</td><td>...</td><td>...</td><td>...</td><td>...</td><td>...</td><td>...</td><td>...</td><td>...</td><td>...</td><td>...</td><td>...</td><td>...</td><td>...</td><td>...</td><td>...</td><td>...</td><td>...</td><td>...</td><td>...</td><td>...</td><td>...</td><td>...</td></tr>\n",
       "<tr><td>801256</td><td>PGC070240</td><td>70240</td><td>345.11355000000003</td><td>-15.37</td><td>Sbc</td><td>nan</td><td>nan</td><td>nan</td><td>nan</td><td>3.9</td><td>102.5</td><td>0.6902398</td><td>0.52480745</td><td>iso</td><td>nan</td><td>23.123482</td><td>15.3</td><td>B</td><td>345.1134211</td><td>-15.3703334</td><td>3443015201351022846</td><td>12.991</td><td>0.025</td><td>12.87</td><td>0.027</td><td>9.014</td><td>0.035</td><td>6.184</td><td>0.051</td><td>8.825</td><td>0000</td><td>1</td><td>AAAA</td><td>nan</td><td>nan</td><td>nan</td><td>nan</td><td>nan</td><td>nan</td><td>nan</td><td>nan</td><td>nan</td><td>nan</td><td>nan</td><td>nan</td><td>True</td><td>False</td><td>False</td><td>3451m152</td><td>EXP</td><td>345.11334615704607</td><td>-15.370323092372667</td><td>0.0</td><td>0.0</td><td>0.0</td><td>0.0</td><td>9.323799</td><td>-0.23263115</td><td>-0.12231542</td><td>L2</td><td>801256</td><td>south</td></tr>\n",
       "<tr><td>229099</td><td>PGC912914</td><td>912914</td><td>345.3909165</td><td>-15.310222199999998</td><td>nan</td><td>nan</td><td>nan</td><td>nan</td><td>nan</td><td>nan</td><td>130.0</td><td>0.33884412</td><td>0.61659503</td><td>iso</td><td>nan</td><td>23.60848</td><td>17.33</td><td>B</td><td>345.3909089</td><td>-15.3103215</td><td>3459015201351013187</td><td>13.101</td><td>0.025</td><td>13.052</td><td>0.029</td><td>11.728</td><td>nan</td><td>9.046</td><td>nan</td><td>1.891</td><td>0000</td><td>1</td><td>AAUU</td><td>nan</td><td>nan</td><td>nan</td><td>nan</td><td>nan</td><td>nan</td><td>nan</td><td>nan</td><td>nan</td><td>nan</td><td>nan</td><td>nan</td><td>True</td><td>False</td><td>False</td><td>3453m152</td><td>DEV</td><td>345.3908925540459</td><td>-15.310328396469542</td><td>1.0</td><td>2.354611</td><td>0.14913413</td><td>-0.23110153</td><td>0.0</td><td>0.0</td><td>0.0</td><td>L2</td><td>229099</td><td>south</td></tr>\n",
       "<tr><td>58186</td><td>PGC915086</td><td>915086</td><td>345.441</td><td>-15.1468889</td><td>nan</td><td>nan</td><td>nan</td><td>nan</td><td>nan</td><td>nan</td><td>nan</td><td>0.45498806</td><td>0.88104886</td><td>iso</td><td>nan</td><td>23.50848</td><td>16.59</td><td>B</td><td>345.4408466</td><td>-15.1473349</td><td>3459015201351033809</td><td>13.173</td><td>0.036</td><td>13.131</td><td>0.043</td><td>11.06</td><td>0.178</td><td>8.131</td><td>0.42</td><td>2.361</td><td>0000</td><td>5</td><td>AABC</td><td>1.61</td><td>9.96</td><td>0.91</td><td>-45.0</td><td>12.861</td><td>0.008</td><td>12.819</td><td>0.02</td><td>10.93</td><td>0.108</td><td>8.703</td><td>0.343</td><td>True</td><td>False</td><td>False</td><td>3453m152</td><td>DEV</td><td>345.44084859637735</td><td>-15.147009577223812</td><td>1.0</td><td>7.144654</td><td>0.021046303</td><td>0.046518624</td><td>0.0</td><td>0.0</td><td>0.0</td><td>L2</td><td>58186</td><td>south</td></tr>\n",
       "<tr><td>702965</td><td>PGC916896</td><td>916896</td><td>345.47462549999995</td><td>-15.012722199999997</td><td>nan</td><td>nan</td><td>nan</td><td>nan</td><td>nan</td><td>nan</td><td>114.0</td><td>0.34673685</td><td>0.58884364</td><td>iso</td><td>nan</td><td>23.698483</td><td>17.37</td><td>B</td><td>345.4745713</td><td>-15.0126736</td><td>3459015201351033803</td><td>12.643</td><td>0.023</td><td>12.227</td><td>0.026</td><td>8.039</td><td>0.02</td><td>5.03</td><td>0.036</td><td>1.527</td><td>0000</td><td>4</td><td>AAAA</td><td>0.32</td><td>9.63</td><td>0.82</td><td>85.0</td><td>12.795</td><td>0.008</td><td>12.443</td><td>0.016</td><td>8.786</td><td>0.017</td><td>5.74</td><td>0.024</td><td>True</td><td>False</td><td>False</td><td>3453m150</td><td>EXP</td><td>345.47451164425075</td><td>-15.012626952665107</td><td>0.0</td><td>0.0</td><td>0.0</td><td>0.0</td><td>3.348878</td><td>-0.1826297</td><td>9.5841184e-05</td><td>L2</td><td>702965</td><td>south</td></tr>\n",
       "<tr><td>133475</td><td>PGC915899</td><td>915899</td><td>345.25820849999997</td><td>-15.088194400000003</td><td>nan</td><td>nan</td><td>nan</td><td>nan</td><td>nan</td><td>nan</td><td>130.0</td><td>0.3981072</td><td>0.64565426</td><td>iso</td><td>nan</td><td>23.488482</td><td>16.86</td><td>B</td><td>345.2580002</td><td>-15.0880483</td><td>3459015201351036521</td><td>14.245</td><td>0.029</td><td>14.001</td><td>0.045</td><td>10.032</td><td>0.065</td><td>7.523</td><td>0.146</td><td>1.819</td><td>0000</td><td>5</td><td>AAAB</td><td>0.95</td><td>9.87</td><td>0.68</td><td>-50.0</td><td>14.155</td><td>0.02</td><td>14.05</td><td>0.052</td><td>10.692</td><td>0.083</td><td>8.146</td><td>0.25</td><td>True</td><td>False</td><td>False</td><td>3451m150</td><td>DEV</td><td>345.25802612651574</td><td>-15.08807716970626</td><td>1.0</td><td>18.702951</td><td>-0.078467116</td><td>-0.25911173</td><td>0.0</td><td>0.0</td><td>0.0</td><td>L2</td><td>133475</td><td>south</td></tr>\n",
       "<tr><td>623765</td><td>PGC917031</td><td>917031</td><td>345.1396245</td><td>-15.003972199999998</td><td>nan</td><td>nan</td><td>nan</td><td>nan</td><td>nan</td><td>nan</td><td>111.0</td><td>0.36307806</td><td>0.48977882</td><td>iso</td><td>nan</td><td>24.12848</td><td>17.7</td><td>B</td><td>345.139628</td><td>-15.0040875</td><td>3459015201351036494</td><td>13.708</td><td>0.029</td><td>13.642</td><td>0.04</td><td>12.121</td><td>nan</td><td>8.592</td><td>nan</td><td>1.169</td><td>0000</td><td>0</td><td>AAUU</td><td>nan</td><td>nan</td><td>nan</td><td>nan</td><td>nan</td><td>nan</td><td>nan</td><td>nan</td><td>nan</td><td>nan</td><td>nan</td><td>nan</td><td>True</td><td>False</td><td>False</td><td>3451m150</td><td>DEV</td><td>345.1396751037598</td><td>-15.00415465590778</td><td>1.0</td><td>4.596584</td><td>-0.3599573</td><td>-0.17915872</td><td>0.0</td><td>0.0</td><td>0.0</td><td>L2</td><td>623765</td><td>south</td></tr>\n",
       "<tr><td>1391062</td><td>PGC091774</td><td>91774</td><td>345.85686599999997</td><td>-15.224372199999998</td><td>Sc</td><td>nan</td><td>nan</td><td>nan</td><td>nan</td><td>5.4</td><td>176.0</td><td>0.65012974</td><td>0.22490546</td><td>iso</td><td>nan</td><td>24.973482</td><td>17.28</td><td>B</td><td>0.0</td><td>0.0</td><td>-1</td><td>0.0</td><td>0.0</td><td>0.0</td><td>0.0</td><td>0.0</td><td>0.0</td><td>0.0</td><td>0.0</td><td>0.0</td><td></td><td>0</td><td></td><td>0.0</td><td>0.0</td><td>0.0</td><td>0.0</td><td>0.0</td><td>0.0</td><td>0.0</td><td>0.0</td><td>0.0</td><td>0.0</td><td>0.0</td><td>0.0</td><td>False</td><td>False</td><td>False</td><td>3459m152</td><td>EXP</td><td>345.8572887811437</td><td>-15.224601757273197</td><td>0.0</td><td>0.0</td><td>0.0</td><td>0.0</td><td>7.408821</td><td>0.6795431</td><td>-0.12320798</td><td>L2</td><td>1391062</td><td>south</td></tr>\n",
       "<tr><td>1034609</td><td>PGC913646</td><td>913646</td><td>345.6561255</td><td>-15.253472199999997</td><td>nan</td><td>nan</td><td>nan</td><td>nan</td><td>nan</td><td>nan</td><td>38.5</td><td>0.34673685</td><td>0.74131024</td><td>iso</td><td>nan</td><td>23.758482</td><td>17.43</td><td>B</td><td>345.6563211</td><td>-15.2533169</td><td>3459015201351033816</td><td>13.329</td><td>0.025</td><td>13.284</td><td>0.032</td><td>11.748</td><td>nan</td><td>8.746</td><td>nan</td><td>1.946</td><td>0000</td><td>1</td><td>AAUU</td><td>nan</td><td>nan</td><td>nan</td><td>nan</td><td>nan</td><td>nan</td><td>nan</td><td>nan</td><td>nan</td><td>nan</td><td>nan</td><td>nan</td><td>True</td><td>False</td><td>False</td><td>3456m152</td><td>DEV</td><td>345.65632740087807</td><td>-15.253331815501884</td><td>1.0</td><td>2.3365858</td><td>0.003998506</td><td>0.11855406</td><td>0.0</td><td>0.0</td><td>0.0</td><td>L2</td><td>1034609</td><td>south</td></tr>\n",
       "<tr><td>244913</td><td>PGC914021</td><td>914021</td><td>345.71340000000004</td><td>-15.2267881</td><td>nan</td><td>nan</td><td>nan</td><td>nan</td><td>nan</td><td>nan</td><td>123.0</td><td>0.33884412</td><td>0.8709636</td><td>iso</td><td>nan</td><td>23.44848</td><td>17.17</td><td>B</td><td>345.7131716</td><td>-15.2271931</td><td>3459015201351033825</td><td>14.054</td><td>0.04</td><td>13.969</td><td>0.051</td><td>10.726</td><td>0.143</td><td>7.756</td><td>nan</td><td>1.494</td><td>0000</td><td>0</td><td>AABU</td><td>nan</td><td>nan</td><td>nan</td><td>nan</td><td>nan</td><td>nan</td><td>nan</td><td>nan</td><td>nan</td><td>nan</td><td>nan</td><td>nan</td><td>True</td><td>False</td><td>False</td><td>3456m152</td><td>DEV</td><td>345.7133014662982</td><td>-15.226822573996003</td><td>1.0</td><td>35.005955</td><td>0.031914312</td><td>-0.021082785</td><td>0.0</td><td>0.0</td><td>0.0</td><td>L2</td><td>244913</td><td>south</td></tr>\n",
       "<tr><td>345482</td><td>PGC910414</td><td>910414</td><td>345.72675</td><td>-15.500694400000002</td><td>nan</td><td>nan</td><td>nan</td><td>nan</td><td>nan</td><td>nan</td><td>97.0</td><td>0.38904512</td><td>0.52480745</td><td>iso</td><td>nan</td><td>23.66848</td><td>17.09</td><td>B</td><td>345.7275541</td><td>-15.5008275</td><td>3459015201351015796</td><td>14.163</td><td>0.045</td><td>13.986</td><td>0.059</td><td>11.429</td><td>0.24</td><td>7.844</td><td>nan</td><td>1.483</td><td>0000</td><td>4</td><td>AABU</td><td>2.69</td><td>nan</td><td>nan</td><td>nan</td><td>nan</td><td>nan</td><td>nan</td><td>nan</td><td>nan</td><td>nan</td><td>nan</td><td>nan</td><td>True</td><td>False</td><td>False</td><td>3456m155</td><td>EXP</td><td>345.7268374650203</td><td>-15.500738531906325</td><td>0.0</td><td>0.0</td><td>0.0</td><td>0.0</td><td>4.827437</td><td>-0.3309322</td><td>-0.08476246</td><td>L2</td><td>345482</td><td>south</td></tr>\n",
       "</table>"
      ],
      "text/plain": [
       "<Table length=403604>\n",
       "LSLGA_ID          GALAXY           PGC   ... REF_CAT  REF_ID REGION\n",
       " int64           bytes29          int64  ...  bytes2  int64   str5 \n",
       "-------- ----------------------- ------- ... ------- ------- ------\n",
       "   14446              PGC1884023 1884023 ...      L2   14446  north\n",
       "  360448              PGC1885932 1885932 ...      L2  360448  north\n",
       "  991749              PGC1867183 1867183 ...      L2  991749  north\n",
       "  936109                UGC04983   26553 ...      L2  936109  north\n",
       " 1288301              PGC1868960 1868960 ...      L2 1288301  north\n",
       "  480891                  IC2490   27121 ...      L2  480891  north\n",
       " 1270041 SDSSJ095530.97+295527.8 4090945 ...      L2 1270041  north\n",
       " 1284218              PGC1865850 1865850 ...      L2 1284218  north\n",
       "  817184              PGC1879335 1879335 ...      L2  817184  north\n",
       "  826763              PGC1879595 1879595 ...      L2  826763  north\n",
       "     ...                     ...     ... ...     ...     ...    ...\n",
       "  801256               PGC070240   70240 ...      L2  801256  south\n",
       "  229099               PGC912914  912914 ...      L2  229099  south\n",
       "   58186               PGC915086  915086 ...      L2   58186  south\n",
       "  702965               PGC916896  916896 ...      L2  702965  south\n",
       "  133475               PGC915899  915899 ...      L2  133475  south\n",
       "  623765               PGC917031  917031 ...      L2  623765  south\n",
       " 1391062               PGC091774   91774 ...      L2 1391062  south\n",
       " 1034609               PGC913646  913646 ...      L2 1034609  south\n",
       "  244913               PGC914021  914021 ...      L2  244913  south\n",
       "  345482               PGC910414  910414 ...      L2  345482  south"
      ]
     },
     "execution_count": 49,
     "metadata": {},
     "output_type": "execute_result"
    }
   ],
   "source": [
    "cat"
   ]
  },
  {
   "cell_type": "code",
   "execution_count": 50,
   "metadata": {},
   "outputs": [
    {
     "data": {
      "text/html": [
       "&lt;Table length=3&gt;\n",
       "<table id=\"table46913329368088\" class=\"table-striped table-bordered table-condensed\">\n",
       "<thead><tr><th>LSLGA_ID</th><th>GALAXY</th><th>PGC</th><th>RA_LSLGA</th><th>DEC_LSLGA</th><th>MORPHTYPE</th><th>BAR</th><th>RING</th><th>MULTIPLE</th><th>COMPACTNESS</th><th>T</th><th>PA</th><th>D25</th><th>BA</th><th>DIAM_REF</th><th>Z</th><th>SB_D25</th><th>MAG</th><th>MAG_REF</th><th>WISE_RA</th><th>WISE_DEC</th><th>CNTR</th><th>W1MPRO</th><th>W1SIGMPRO</th><th>W2MPRO</th><th>W2SIGMPRO</th><th>W3MPRO</th><th>W3SIGMPRO</th><th>W4MPRO</th><th>W4SIGMPRO</th><th>RCHI2</th><th>CC_FLAGS</th><th>EXT_FLG</th><th>PH_QUAL</th><th>XSCPROX</th><th>W1RSEMI</th><th>W1BA</th><th>W1PA</th><th>W1GMAG</th><th>W1GERR</th><th>W2GMAG</th><th>W2GERR</th><th>W3GMAG</th><th>W3GERR</th><th>W4GMAG</th><th>W4GERR</th><th>IN_ALLWISE</th><th>IN_DESI</th><th>NEAR_BRIGHTSTAR</th><th>BRICKNAME</th><th>TYPE</th><th>RA</th><th>DEC</th><th>FRACDEV</th><th>SHAPEDEV_R</th><th>SHAPEDEV_E1</th><th>SHAPEDEV_E2</th><th>SHAPEEXP_R</th><th>SHAPEEXP_E1</th><th>SHAPEEXP_E2</th><th>REF_CAT</th><th>REF_ID</th><th>REGION</th></tr></thead>\n",
       "<thead><tr><th>int64</th><th>bytes29</th><th>int64</th><th>float64</th><th>float64</th><th>bytes4</th><th>bytes3</th><th>bytes3</th><th>bytes3</th><th>bytes3</th><th>float32</th><th>float32</th><th>float32</th><th>float32</th><th>bytes3</th><th>float32</th><th>float32</th><th>float32</th><th>bytes1</th><th>float64</th><th>float64</th><th>int64</th><th>float64</th><th>float64</th><th>float64</th><th>float64</th><th>float64</th><th>float64</th><th>float64</th><th>float64</th><th>float32</th><th>bytes4</th><th>int32</th><th>bytes4</th><th>float64</th><th>float64</th><th>float64</th><th>float64</th><th>float64</th><th>float64</th><th>float64</th><th>float64</th><th>float64</th><th>float64</th><th>float64</th><th>float64</th><th>bool</th><th>bool</th><th>bool</th><th>bytes8</th><th>bytes4</th><th>float64</th><th>float64</th><th>float32</th><th>float32</th><th>float32</th><th>float32</th><th>float32</th><th>float32</th><th>float32</th><th>bytes2</th><th>int64</th><th>str5</th></tr></thead>\n",
       "<tr><td>462171</td><td>PGC1894795</td><td>1894795</td><td>222.76237500000002</td><td>30.2149495</td><td>E</td><td>nan</td><td>nan</td><td>M</td><td>nan</td><td>-5.0</td><td>15.19</td><td>0.6776415</td><td>0.699842</td><td>iso</td><td>0.12684074</td><td>24.591482</td><td>16.808</td><td>B</td><td>222.7623165</td><td>30.2149434</td><td>2226130201351032040</td><td>12.67</td><td>0.023</td><td>12.544</td><td>0.023</td><td>11.353</td><td>0.112</td><td>8.968</td><td>nan</td><td>4.878</td><td>0000</td><td>5</td><td>AABU</td><td>0.85</td><td>10.95</td><td>0.83</td><td>30.0</td><td>12.533</td><td>0.007</td><td>12.455</td><td>0.009</td><td>11.794</td><td>0.141</td><td>11.003</td><td>1.685</td><td>True</td><td>True</td><td>False</td><td>2226p302</td><td>REX</td><td>222.75788331496216</td><td>30.21070331309989</td><td>0.0</td><td>0.0</td><td>0.0</td><td>0.0</td><td>60.0</td><td>0.0</td><td>0.0</td><td>L2</td><td>462171</td><td>north</td></tr>\n",
       "<tr><td>462171</td><td>PGC1894795</td><td>1894795</td><td>222.76237500000002</td><td>30.2149495</td><td>E</td><td>nan</td><td>nan</td><td>M</td><td>nan</td><td>-5.0</td><td>15.19</td><td>0.6776415</td><td>0.699842</td><td>iso</td><td>0.12684074</td><td>24.591482</td><td>16.808</td><td>B</td><td>222.7623165</td><td>30.2149434</td><td>2226130201351032040</td><td>12.67</td><td>0.023</td><td>12.544</td><td>0.023</td><td>11.353</td><td>0.112</td><td>8.968</td><td>nan</td><td>4.878</td><td>0000</td><td>5</td><td>AABU</td><td>0.85</td><td>10.95</td><td>0.83</td><td>30.0</td><td>12.533</td><td>0.007</td><td>12.455</td><td>0.009</td><td>11.794</td><td>0.141</td><td>11.003</td><td>1.685</td><td>True</td><td>True</td><td>False</td><td>2229p302</td><td>PSF</td><td>222.763145333835</td><td>30.214129860571248</td><td>0.0</td><td>0.0</td><td>0.0</td><td>0.0</td><td>0.0</td><td>0.0</td><td>0.0</td><td>L2</td><td>462171</td><td>north</td></tr>\n",
       "<tr><td>462171</td><td>PGC1894795</td><td>1894795</td><td>222.76237500000002</td><td>30.2149495</td><td>E</td><td>nan</td><td>nan</td><td>M</td><td>nan</td><td>-5.0</td><td>15.19</td><td>0.6776415</td><td>0.699842</td><td>iso</td><td>0.12684074</td><td>24.591482</td><td>16.808</td><td>B</td><td>222.7623165</td><td>30.2149434</td><td>2226130201351032040</td><td>12.67</td><td>0.023</td><td>12.544</td><td>0.023</td><td>11.353</td><td>0.112</td><td>8.968</td><td>nan</td><td>4.878</td><td>0000</td><td>5</td><td>AABU</td><td>0.85</td><td>10.95</td><td>0.83</td><td>30.0</td><td>12.533</td><td>0.007</td><td>12.455</td><td>0.009</td><td>11.794</td><td>0.141</td><td>11.003</td><td>1.685</td><td>True</td><td>True</td><td>False</td><td>2229p302</td><td>DEV</td><td>222.7622796253711</td><td>30.214941041938225</td><td>1.0</td><td>5.6969905</td><td>0.079771586</td><td>0.028879106</td><td>0.0</td><td>0.0</td><td>0.0</td><td>L2</td><td>462171</td><td>south</td></tr>\n",
       "</table>"
      ],
      "text/plain": [
       "<Table length=3>\n",
       "LSLGA_ID   GALAXY     PGC        RA_LSLGA      ... REF_CAT REF_ID REGION\n",
       " int64    bytes29    int64       float64       ...  bytes2 int64   str5 \n",
       "-------- ---------- ------- ------------------ ... ------- ------ ------\n",
       "  462171 PGC1894795 1894795 222.76237500000002 ...      L2 462171  north\n",
       "  462171 PGC1894795 1894795 222.76237500000002 ...      L2 462171  north\n",
       "  462171 PGC1894795 1894795 222.76237500000002 ...      L2 462171  south"
      ]
     },
     "execution_count": 50,
     "metadata": {},
     "output_type": "execute_result"
    }
   ],
   "source": [
    "urefid, uindx = np.unique(cat['REF_ID'], return_index=True)\n",
    "dup = np.delete(np.arange(len(cat)), uindx)\n",
    "cat[dup]\n",
    "cat[cat['REF_ID'] == 462171]"
   ]
  },
  {
   "cell_type": "code",
   "execution_count": 58,
   "metadata": {},
   "outputs": [
    {
     "data": {
      "text/html": [
       "&lt;Table length=3923&gt;\n",
       "<table id=\"table46913329365232\" class=\"table-striped table-bordered table-condensed\">\n",
       "<thead><tr><th>LSLGA_ID</th><th>GALAXY</th><th>PGC</th><th>RA_LSLGA</th><th>DEC_LSLGA</th><th>MORPHTYPE</th><th>BAR</th><th>RING</th><th>MULTIPLE</th><th>COMPACTNESS</th><th>T</th><th>PA</th><th>D25</th><th>BA</th><th>DIAM_REF</th><th>Z</th><th>SB_D25</th><th>MAG</th><th>MAG_REF</th><th>WISE_RA</th><th>WISE_DEC</th><th>CNTR</th><th>W1MPRO</th><th>W1SIGMPRO</th><th>W2MPRO</th><th>W2SIGMPRO</th><th>W3MPRO</th><th>W3SIGMPRO</th><th>W4MPRO</th><th>W4SIGMPRO</th><th>RCHI2</th><th>CC_FLAGS</th><th>EXT_FLG</th><th>PH_QUAL</th><th>XSCPROX</th><th>W1RSEMI</th><th>W1BA</th><th>W1PA</th><th>W1GMAG</th><th>W1GERR</th><th>W2GMAG</th><th>W2GERR</th><th>W3GMAG</th><th>W3GERR</th><th>W4GMAG</th><th>W4GERR</th><th>IN_ALLWISE</th><th>IN_DESI</th><th>NEAR_BRIGHTSTAR</th><th>BRICKNAME</th><th>TYPE</th><th>RA</th><th>DEC</th><th>FRACDEV</th><th>SHAPEDEV_R</th><th>SHAPEDEV_E1</th><th>SHAPEDEV_E2</th><th>SHAPEEXP_R</th><th>SHAPEEXP_E1</th><th>SHAPEEXP_E2</th><th>REF_CAT</th><th>REF_ID</th><th>REGION</th></tr></thead>\n",
       "<thead><tr><th>int64</th><th>bytes29</th><th>int64</th><th>float64</th><th>float64</th><th>bytes4</th><th>bytes3</th><th>bytes3</th><th>bytes3</th><th>bytes3</th><th>float32</th><th>float32</th><th>float32</th><th>float32</th><th>bytes3</th><th>float32</th><th>float32</th><th>float32</th><th>bytes1</th><th>float64</th><th>float64</th><th>int64</th><th>float64</th><th>float64</th><th>float64</th><th>float64</th><th>float64</th><th>float64</th><th>float64</th><th>float64</th><th>float32</th><th>bytes4</th><th>int32</th><th>bytes4</th><th>float64</th><th>float64</th><th>float64</th><th>float64</th><th>float64</th><th>float64</th><th>float64</th><th>float64</th><th>float64</th><th>float64</th><th>float64</th><th>float64</th><th>bool</th><th>bool</th><th>bool</th><th>bytes8</th><th>bytes4</th><th>float64</th><th>float64</th><th>float32</th><th>float32</th><th>float32</th><th>float32</th><th>float32</th><th>float32</th><th>float32</th><th>bytes2</th><th>int64</th><th>str5</th></tr></thead>\n",
       "<tr><td>315741</td><td>PGC1990555</td><td>1990555</td><td>229.19510400000001</td><td>32.302775800000006</td><td>nan</td><td>nan</td><td>nan</td><td>nan</td><td>nan</td><td>nan</td><td>24.0</td><td>0.3981072</td><td>0.52480745</td><td>iso</td><td>nan</td><td>24.078482</td><td>17.45</td><td>B</td><td>229.195031</td><td>32.3027161</td><td>2294131801351059978</td><td>14.295</td><td>0.055</td><td>14.389</td><td>0.065</td><td>13.069</td><td>nan</td><td>9.64</td><td>nan</td><td>1.002</td><td>0000</td><td>0</td><td>AAUU</td><td>nan</td><td>nan</td><td>nan</td><td>nan</td><td>nan</td><td>nan</td><td>nan</td><td>nan</td><td>nan</td><td>nan</td><td>nan</td><td>nan</td><td>True</td><td>True</td><td>False</td><td>2291p322</td><td>REX</td><td>229.1951220498187</td><td>32.30275951936196</td><td>0.0</td><td>0.0</td><td>0.0</td><td>0.0</td><td>0.21622105</td><td>0.0</td><td>0.0</td><td>L2</td><td>315741</td><td>north</td></tr>\n",
       "<tr><td>462171</td><td>PGC1894795</td><td>1894795</td><td>222.76237500000002</td><td>30.2149495</td><td>E</td><td>nan</td><td>nan</td><td>M</td><td>nan</td><td>-5.0</td><td>15.19</td><td>0.6776415</td><td>0.699842</td><td>iso</td><td>0.12684074</td><td>24.591482</td><td>16.808</td><td>B</td><td>222.7623165</td><td>30.2149434</td><td>2226130201351032040</td><td>12.67</td><td>0.023</td><td>12.544</td><td>0.023</td><td>11.353</td><td>0.112</td><td>8.968</td><td>nan</td><td>4.878</td><td>0000</td><td>5</td><td>AABU</td><td>0.85</td><td>10.95</td><td>0.83</td><td>30.0</td><td>12.533</td><td>0.007</td><td>12.455</td><td>0.009</td><td>11.794</td><td>0.141</td><td>11.003</td><td>1.685</td><td>True</td><td>True</td><td>False</td><td>2226p302</td><td>REX</td><td>222.75788331496216</td><td>30.21070331309989</td><td>0.0</td><td>0.0</td><td>0.0</td><td>0.0</td><td>60.0</td><td>0.0</td><td>0.0</td><td>L2</td><td>462171</td><td>north</td></tr>\n",
       "<tr><td>1371413</td><td>SDSSJ150625.84+305821.2</td><td>4012714</td><td>226.60772549999996</td><td>30.9726027</td><td>S?</td><td>nan</td><td>nan</td><td>nan</td><td>nan</td><td>10.0</td><td>30.49</td><td>0.37068075</td><td>0.8912509</td><td>iso</td><td>0.079420604</td><td>24.538483</td><td>18.065</td><td>B</td><td>226.6077065</td><td>30.9725723</td><td>2260130201351054762</td><td>15.55</td><td>0.036</td><td>15.372</td><td>0.071</td><td>11.992</td><td>0.174</td><td>9.307</td><td>0.485</td><td>1.053</td><td>0000</td><td>0</td><td>AABC</td><td>nan</td><td>nan</td><td>nan</td><td>nan</td><td>nan</td><td>nan</td><td>nan</td><td>nan</td><td>nan</td><td>nan</td><td>nan</td><td>nan</td><td>True</td><td>True</td><td>False</td><td>2267p310</td><td>REX</td><td>226.6076696598571</td><td>30.972539024099326</td><td>0.0</td><td>0.0</td><td>0.0</td><td>0.0</td><td>5.037455</td><td>0.0</td><td>0.0</td><td>L2</td><td>1371413</td><td>north</td></tr>\n",
       "<tr><td>595523</td><td>PGC1922094</td><td>1922120</td><td>225.912018</td><td>30.882962899999995</td><td>Sc</td><td>nan</td><td>nan</td><td>nan</td><td>nan</td><td>4.7</td><td>nan</td><td>0.3935501</td><td>0.79250133</td><td>iso</td><td>0.06253826</td><td>23.53848</td><td>16.935</td><td>B</td><td>225.911424</td><td>30.8831464</td><td>2260130201351057318</td><td>14.078</td><td>0.041</td><td>14.015</td><td>0.05</td><td>10.557</td><td>0.068</td><td>8.348</td><td>nan</td><td>1.693</td><td>0000</td><td>1</td><td>AAAU</td><td>nan</td><td>nan</td><td>nan</td><td>nan</td><td>nan</td><td>nan</td><td>nan</td><td>nan</td><td>nan</td><td>nan</td><td>nan</td><td>nan</td><td>True</td><td>True</td><td>False</td><td>2258p310</td><td>REX</td><td>225.91197439733637</td><td>30.882926635706816</td><td>0.0</td><td>0.0</td><td>0.0</td><td>0.0</td><td>4.315515</td><td>0.0</td><td>0.0</td><td>L2</td><td>595523</td><td>north</td></tr>\n",
       "<tr><td>840119</td><td>SDSSJ151418.44+345836.9</td><td>4012783</td><td>228.5768655</td><td>34.9769283</td><td>S?</td><td>nan</td><td>nan</td><td>nan</td><td>nan</td><td>10.0</td><td>147.27</td><td>0.35075188</td><td>0.8851156</td><td>iso</td><td>0.09033316</td><td>24.600481</td><td>18.247</td><td>B</td><td>228.5769649</td><td>34.9769404</td><td>2284134801351032314</td><td>15.645</td><td>0.036</td><td>15.527</td><td>0.077</td><td>12.23</td><td>0.222</td><td>9.699</td><td>nan</td><td>1.057</td><td>0000</td><td>0</td><td>AABU</td><td>nan</td><td>nan</td><td>nan</td><td>nan</td><td>nan</td><td>nan</td><td>nan</td><td>nan</td><td>nan</td><td>nan</td><td>nan</td><td>nan</td><td>True</td><td>True</td><td>False</td><td>2285p350</td><td>REX</td><td>228.57685627122453</td><td>34.97692087477085</td><td>0.0</td><td>0.0</td><td>0.0</td><td>0.0</td><td>5.431425</td><td>0.0</td><td>0.0</td><td>L2</td><td>840119</td><td>north</td></tr>\n",
       "<tr><td>1294129</td><td>SDSSJ150553.63+334621.1</td><td>4005415</td><td>226.4734515</td><td>33.772516100000004</td><td>S?</td><td>nan</td><td>nan</td><td>nan</td><td>nan</td><td>10.0</td><td>nan</td><td>0.35809645</td><td>0.90573263</td><td>iso</td><td>0.0571035</td><td>24.379482</td><td>17.981</td><td>B</td><td>226.4736796</td><td>33.7726567</td><td>2267133301351042791</td><td>15.572</td><td>0.036</td><td>15.418</td><td>0.07</td><td>12.48</td><td>0.263</td><td>8.874</td><td>nan</td><td>1.147</td><td>0000</td><td>0</td><td>AABU</td><td>nan</td><td>nan</td><td>nan</td><td>nan</td><td>nan</td><td>nan</td><td>nan</td><td>nan</td><td>nan</td><td>nan</td><td>nan</td><td>nan</td><td>True</td><td>True</td><td>False</td><td>2263p337</td><td>REX</td><td>226.47354312175366</td><td>33.77256376179513</td><td>0.0</td><td>0.0</td><td>0.0</td><td>0.0</td><td>5.089376</td><td>0.0</td><td>0.0</td><td>L2</td><td>1294129</td><td>north</td></tr>\n",
       "<tr><td>1145374</td><td>SDSSJ145933.78+325040.0</td><td>4541143</td><td>224.89074599999998</td><td>32.8444592</td><td>nan</td><td>nan</td><td>nan</td><td>nan</td><td>nan</td><td>nan</td><td>148.53</td><td>0.34197944</td><td>0.40457588</td><td>iso</td><td>0.008815098</td><td>24.61848</td><td>18.32</td><td>B</td><td>0.0</td><td>0.0</td><td>-1</td><td>0.0</td><td>0.0</td><td>0.0</td><td>0.0</td><td>0.0</td><td>0.0</td><td>0.0</td><td>0.0</td><td>0.0</td><td></td><td>0</td><td></td><td>0.0</td><td>0.0</td><td>0.0</td><td>0.0</td><td>0.0</td><td>0.0</td><td>0.0</td><td>0.0</td><td>0.0</td><td>0.0</td><td>0.0</td><td>0.0</td><td>False</td><td>True</td><td>False</td><td>2249p327</td><td>REX</td><td>224.89086803749296</td><td>32.844674146842756</td><td>0.0</td><td>0.0</td><td>0.0</td><td>0.0</td><td>1.9347694</td><td>0.0</td><td>0.0</td><td>L2</td><td>1145374</td><td>north</td></tr>\n",
       "<tr><td>385434</td><td>SDSSJ151755.64+314119.0</td><td>4005695</td><td>229.4818335</td><td>31.688612199999998</td><td>Sc</td><td>nan</td><td>nan</td><td>M</td><td>nan</td><td>6.3</td><td>141.65</td><td>0.5345644</td><td>0.8035261</td><td>iso</td><td>0.034469176</td><td>24.34648</td><td>17.078</td><td>B</td><td>229.4818152</td><td>31.6886705</td><td>2294131801351031003</td><td>14.974</td><td>0.031</td><td>14.898</td><td>0.05</td><td>11.266</td><td>0.106</td><td>9.357</td><td>0.418</td><td>1.635</td><td>0000</td><td>1</td><td>AAAC</td><td>nan</td><td>nan</td><td>nan</td><td>nan</td><td>nan</td><td>nan</td><td>nan</td><td>nan</td><td>nan</td><td>nan</td><td>nan</td><td>nan</td><td>True</td><td>True</td><td>False</td><td>2293p317</td><td>REX</td><td>229.4817987961819</td><td>31.68861272516076</td><td>0.0</td><td>0.0</td><td>0.0</td><td>0.0</td><td>6.530795</td><td>0.0</td><td>0.0</td><td>L2</td><td>385434</td><td>north</td></tr>\n",
       "<tr><td>571417</td><td>SDSSJ144941.27+301925.3</td><td>4434422</td><td>222.42190950000003</td><td>30.3237081</td><td>S?</td><td>nan</td><td>nan</td><td>nan</td><td>nan</td><td>10.0</td><td>120.2</td><td>0.34914032</td><td>0.7161434</td><td>iso</td><td>0.09807117</td><td>24.38948</td><td>18.046</td><td>B</td><td>222.4219694</td><td>30.3236811</td><td>2226130201351035140</td><td>15.186</td><td>0.032</td><td>14.978</td><td>0.055</td><td>11.112</td><td>0.092</td><td>9.387</td><td>0.464</td><td>1.083</td><td>0000</td><td>0</td><td>AAAC</td><td>nan</td><td>nan</td><td>nan</td><td>nan</td><td>nan</td><td>nan</td><td>nan</td><td>nan</td><td>nan</td><td>nan</td><td>nan</td><td>nan</td><td>True</td><td>True</td><td>False</td><td>2223p302</td><td>REX</td><td>222.42192132995703</td><td>30.323687268000977</td><td>0.0</td><td>0.0</td><td>0.0</td><td>0.0</td><td>3.3250747</td><td>0.0</td><td>0.0</td><td>L2</td><td>571417</td><td>north</td></tr>\n",
       "<tr><td>278113</td><td>PGC1913303</td><td>1913303</td><td>229.94473200000002</td><td>30.6770026</td><td>Sbc</td><td>nan</td><td>nan</td><td>nan</td><td>nan</td><td>4.1</td><td>123.79</td><td>0.3655948</td><td>0.84527886</td><td>iso</td><td>0.11644288</td><td>23.685482</td><td>17.242</td><td>B</td><td>229.9448612</td><td>30.6769775</td><td>2295130201351047449</td><td>13.764</td><td>0.029</td><td>13.558</td><td>0.033</td><td>9.878</td><td>0.049</td><td>8.495</td><td>0.339</td><td>1.391</td><td>00pp</td><td>4</td><td>AAAB</td><td>0.41</td><td>8.91</td><td>0.94</td><td>5.0</td><td>13.64</td><td>0.011</td><td>13.453</td><td>0.015</td><td>10.293</td><td>0.091</td><td>8.731</td><td>0.405</td><td>True</td><td>True</td><td>False</td><td>2300p307</td><td>REX</td><td>229.94471431608977</td><td>30.677031935017265</td><td>0.0</td><td>0.0</td><td>0.0</td><td>0.0</td><td>3.5460982</td><td>0.0</td><td>0.0</td><td>L2</td><td>278113</td><td>north</td></tr>\n",
       "<tr><td>...</td><td>...</td><td>...</td><td>...</td><td>...</td><td>...</td><td>...</td><td>...</td><td>...</td><td>...</td><td>...</td><td>...</td><td>...</td><td>...</td><td>...</td><td>...</td><td>...</td><td>...</td><td>...</td><td>...</td><td>...</td><td>...</td><td>...</td><td>...</td><td>...</td><td>...</td><td>...</td><td>...</td><td>...</td><td>...</td><td>...</td><td>...</td><td>...</td><td>...</td><td>...</td><td>...</td><td>...</td><td>...</td><td>...</td><td>...</td><td>...</td><td>...</td><td>...</td><td>...</td><td>...</td><td>...</td><td>...</td><td>...</td><td>...</td><td>...</td><td>...</td><td>...</td><td>...</td><td>...</td><td>...</td><td>...</td><td>...</td><td>...</td><td>...</td><td>...</td><td>...</td><td>...</td><td>...</td></tr>\n",
       "<tr><td>276432</td><td>PGC2806932</td><td>2806932</td><td>198.55026</td><td>20.5189801</td><td>Sm</td><td>nan</td><td>nan</td><td>nan</td><td>nan</td><td>9.0</td><td>nan</td><td>0.66069347</td><td>0.9225714</td><td>iso</td><td>0.021683</td><td>24.463482</td><td>16.735</td><td>B</td><td>198.5502986</td><td>20.5189511</td><td>1985121201351005622</td><td>15.092</td><td>0.036</td><td>14.884</td><td>0.064</td><td>11.334</td><td>0.158</td><td>8.605</td><td>nan</td><td>2.015</td><td>0000</td><td>1</td><td>AABU</td><td>nan</td><td>nan</td><td>nan</td><td>nan</td><td>nan</td><td>nan</td><td>nan</td><td>nan</td><td>nan</td><td>nan</td><td>nan</td><td>nan</td><td>True</td><td>True</td><td>False</td><td>1985p205</td><td>REX</td><td>198.55026223707296</td><td>20.518884151387404</td><td>0.0</td><td>0.0</td><td>0.0</td><td>0.0</td><td>10.739789</td><td>0.0</td><td>0.0</td><td>L2</td><td>276432</td><td>south</td></tr>\n",
       "<tr><td>368539</td><td>PGC1714053</td><td>1714053</td><td>197.987805</td><td>24.701189199999998</td><td>Scd</td><td>nan</td><td>nan</td><td>nan</td><td>nan</td><td>6.8</td><td>152.55</td><td>0.46451527</td><td>0.8128305</td><td>iso</td><td>0.023636017</td><td>23.920483</td><td>16.957</td><td>B</td><td>197.9880759</td><td>24.700526</td><td>1981124201351039193</td><td>14.609</td><td>0.037</td><td>14.245</td><td>0.052</td><td>11.723</td><td>0.275</td><td>8.305</td><td>0.286</td><td>4.219</td><td>hh00</td><td>1</td><td>AABB</td><td>nan</td><td>nan</td><td>nan</td><td>nan</td><td>nan</td><td>nan</td><td>nan</td><td>nan</td><td>nan</td><td>nan</td><td>nan</td><td>nan</td><td>True</td><td>True</td><td>True</td><td>1980p247</td><td>REX</td><td>197.98320599623642</td><td>24.707537247151187</td><td>0.0</td><td>0.0</td><td>0.0</td><td>0.0</td><td>4.307225</td><td>0.0</td><td>0.0</td><td>L2</td><td>368539</td><td>south</td></tr>\n",
       "<tr><td>856292</td><td>PGC052850</td><td>52850</td><td>221.979846</td><td>19.0516611</td><td>S?</td><td>nan</td><td>nan</td><td>M</td><td>nan</td><td>1.2</td><td>nan</td><td>0.9120108</td><td>0.38018942</td><td>iso</td><td>0.08022216</td><td>26.468481</td><td>18.04</td><td>B</td><td>221.9799998</td><td>19.0516683</td><td>2224119601351008031</td><td>14.23</td><td>0.027</td><td>14.082</td><td>0.038</td><td>10.334</td><td>0.052</td><td>8.704</td><td>0.326</td><td>2.529</td><td>0000</td><td>5</td><td>AAAB</td><td>0.28</td><td>8.84</td><td>0.87</td><td>80.0</td><td>13.934</td><td>0.012</td><td>13.938</td><td>0.051</td><td>10.997</td><td>0.05</td><td>9.401</td><td>0.426</td><td>True</td><td>True</td><td>False</td><td>2220p190</td><td>REX</td><td>221.97859317460723</td><td>19.056892509097512</td><td>0.0</td><td>0.0</td><td>0.0</td><td>0.0</td><td>19.872904</td><td>0.0</td><td>0.0</td><td>L2</td><td>856292</td><td>south</td></tr>\n",
       "<tr><td>295018</td><td>PGC1478985</td><td>1478985</td><td>222.10603799999996</td><td>15.2329185</td><td>S?</td><td>nan</td><td>nan</td><td>nan</td><td>nan</td><td>4.2</td><td>23.46</td><td>0.34673685</td><td>0.887156</td><td>iso</td><td>0.06660374</td><td>23.174482</td><td>16.846</td><td>B</td><td>222.1060548</td><td>15.2329975</td><td>2222115101351031173</td><td>13.978</td><td>0.026</td><td>13.813</td><td>0.037</td><td>9.978</td><td>0.046</td><td>8.427</td><td>0.239</td><td>1.761</td><td>0000</td><td>1</td><td>AAAB</td><td>nan</td><td>nan</td><td>nan</td><td>nan</td><td>nan</td><td>nan</td><td>nan</td><td>nan</td><td>nan</td><td>nan</td><td>nan</td><td>nan</td><td>True</td><td>True</td><td>False</td><td>2220p152</td><td>REX</td><td>222.10604051054366</td><td>15.232953556679776</td><td>0.0</td><td>0.0</td><td>0.0</td><td>0.0</td><td>2.9974027</td><td>0.0</td><td>0.0</td><td>L2</td><td>295018</td><td>south</td></tr>\n",
       "<tr><td>125618</td><td>PGC053021</td><td>53021</td><td>222.7523895</td><td>16.4764096</td><td>Sbc</td><td>nan</td><td>nan</td><td>nan</td><td>nan</td><td>4.5</td><td>nan</td><td>0.47643095</td><td>0.6353309</td><td>iso</td><td>0.039998338</td><td>23.49748</td><td>16.479</td><td>B</td><td>222.752577</td><td>16.4763822</td><td>2232116601351016185</td><td>14.127</td><td>0.026</td><td>13.955</td><td>0.036</td><td>10.518</td><td>0.063</td><td>8.432</td><td>0.235</td><td>2.639</td><td>0000</td><td>5</td><td>AAAB</td><td>1.08</td><td>9.87</td><td>0.85</td><td>-65.0</td><td>13.829</td><td>0.012</td><td>13.775</td><td>0.033</td><td>10.813</td><td>0.058</td><td>9.295</td><td>0.504</td><td>True</td><td>True</td><td>False</td><td>2228p165</td><td>REX</td><td>222.7525164022739</td><td>16.47638082424742</td><td>0.0</td><td>0.0</td><td>0.0</td><td>0.0</td><td>5.896147</td><td>0.0</td><td>0.0</td><td>L2</td><td>125618</td><td>south</td></tr>\n",
       "<tr><td>361276</td><td>PGC053122</td><td>53122</td><td>223.13216549999999</td><td>15.022251800000001</td><td>Sbc</td><td>nan</td><td>nan</td><td>nan</td><td>nan</td><td>4.3</td><td>112.32</td><td>0.5272299</td><td>0.8165824</td><td>iso</td><td>0.060841423</td><td>23.231482</td><td>15.993</td><td>B</td><td>223.1322153</td><td>15.0222814</td><td>2238115101351037664</td><td>12.903</td><td>0.024</td><td>12.763</td><td>0.025</td><td>8.733</td><td>0.024</td><td>6.942</td><td>0.075</td><td>7.152</td><td>0000</td><td>5</td><td>AAAA</td><td>0.63</td><td>10.66</td><td>0.88</td><td>-65.0</td><td>12.78</td><td>0.008</td><td>12.596</td><td>0.013</td><td>9.106</td><td>0.015</td><td>7.419</td><td>0.073</td><td>True</td><td>True</td><td>False</td><td>2230p150</td><td>REX</td><td>223.13214477153178</td><td>15.022181662437184</td><td>0.0</td><td>0.0</td><td>0.0</td><td>0.0</td><td>4.712411</td><td>0.0</td><td>0.0</td><td>L2</td><td>361276</td><td>south</td></tr>\n",
       "<tr><td>874726</td><td>PGC053338</td><td>53338</td><td>223.82670899999997</td><td>16.548138899999998</td><td>Sbc</td><td>nan</td><td>nan</td><td>nan</td><td>nan</td><td>4.1</td><td>nan</td><td>0.5956621</td><td>0.9354057</td><td>iso</td><td>0.044094503</td><td>22.984482</td><td>15.481</td><td>B</td><td>223.826692</td><td>16.5482625</td><td>2232116601351026622</td><td>12.699</td><td>0.023</td><td>12.439</td><td>0.023</td><td>8.608</td><td>0.02</td><td>6.344</td><td>0.049</td><td>8.82</td><td>0000</td><td>5</td><td>AAAA</td><td>0.41</td><td>13.7</td><td>0.92</td><td>50.0</td><td>12.258</td><td>0.008</td><td>12.07</td><td>0.01</td><td>8.62</td><td>0.01</td><td>6.711</td><td>0.065</td><td>True</td><td>True</td><td>False</td><td>2238p165</td><td>REX</td><td>223.82666697024862</td><td>16.54821395562528</td><td>0.0</td><td>0.0</td><td>0.0</td><td>0.0</td><td>6.2808423</td><td>0.0</td><td>0.0</td><td>L2</td><td>874726</td><td>south</td></tr>\n",
       "<tr><td>309778</td><td>PGC1527332</td><td>1527332</td><td>228.43615799999998</td><td>17.212657800000002</td><td>Sc</td><td>nan</td><td>nan</td><td>nan</td><td>nan</td><td>5.3</td><td>167.11</td><td>0.34197944</td><td>0.7655966</td><td>iso</td><td>0.06701369</td><td>23.21648</td><td>16.918</td><td>B</td><td>228.4361598</td><td>17.2126331</td><td>2279116601351055536</td><td>13.987</td><td>0.026</td><td>13.874</td><td>0.035</td><td>10.168</td><td>0.051</td><td>8.517</td><td>0.269</td><td>2.066</td><td>0000</td><td>1</td><td>AAAB</td><td>nan</td><td>nan</td><td>nan</td><td>nan</td><td>nan</td><td>nan</td><td>nan</td><td>nan</td><td>nan</td><td>nan</td><td>nan</td><td>nan</td><td>True</td><td>True</td><td>False</td><td>2284p172</td><td>REX</td><td>228.43613508018151</td><td>17.2126569496509</td><td>0.0</td><td>0.0</td><td>0.0</td><td>0.0</td><td>4.1514773</td><td>0.0</td><td>0.0</td><td>L2</td><td>309778</td><td>south</td></tr>\n",
       "<tr><td>45896</td><td>PGC1480322</td><td>1480322</td><td>225.93105</td><td>15.2801</td><td>nan</td><td>nan</td><td>nan</td><td>nan</td><td>nan</td><td>nan</td><td>102.0</td><td>0.5011872</td><td>0.21877615</td><td>iso</td><td>nan</td><td>25.728481</td><td>18.6</td><td>B</td><td>225.9303288</td><td>15.2801329</td><td>2253115101351027520</td><td>15.31</td><td>0.034</td><td>14.793</td><td>0.054</td><td>11.379</td><td>0.128</td><td>8.517</td><td>nan</td><td>1.265</td><td>dd00</td><td>0</td><td>AABU</td><td>nan</td><td>nan</td><td>nan</td><td>nan</td><td>nan</td><td>nan</td><td>nan</td><td>nan</td><td>nan</td><td>nan</td><td>nan</td><td>nan</td><td>True</td><td>True</td><td>False</td><td>2259p152</td><td>REX</td><td>225.92790481185855</td><td>15.280776698800599</td><td>0.0</td><td>0.0</td><td>0.0</td><td>0.0</td><td>1.8779075</td><td>0.0</td><td>0.0</td><td>L2</td><td>45896</td><td>south</td></tr>\n",
       "<tr><td>1010435</td><td>PGC1590568</td><td>1590568</td><td>221.3269965</td><td>19.3892517</td><td>Sbc</td><td>nan</td><td>nan</td><td>nan</td><td>nan</td><td>4.2</td><td>nan</td><td>0.40550852</td><td>0.9332543</td><td>iso</td><td>0.05979937</td><td>23.538483</td><td>16.87</td><td>B</td><td>221.3275292</td><td>19.3891441</td><td>2208119601351023222</td><td>14.399</td><td>0.04</td><td>14.302</td><td>0.053</td><td>10.789</td><td>0.086</td><td>8.887</td><td>0.512</td><td>1.496</td><td>0000</td><td>0</td><td>AAAC</td><td>nan</td><td>nan</td><td>nan</td><td>nan</td><td>nan</td><td>nan</td><td>nan</td><td>nan</td><td>nan</td><td>nan</td><td>nan</td><td>nan</td><td>True</td><td>True</td><td>False</td><td>2214p195</td><td>REX</td><td>221.3269042845453</td><td>19.389218688630525</td><td>0.0</td><td>0.0</td><td>0.0</td><td>0.0</td><td>5.5019712</td><td>0.0</td><td>0.0</td><td>L2</td><td>1010435</td><td>south</td></tr>\n",
       "</table>"
      ],
      "text/plain": [
       "<Table length=3923>\n",
       "LSLGA_ID          GALAXY           PGC   ... REF_CAT  REF_ID REGION\n",
       " int64           bytes29          int64  ...  bytes2  int64   str5 \n",
       "-------- ----------------------- ------- ... ------- ------- ------\n",
       "  315741              PGC1990555 1990555 ...      L2  315741  north\n",
       "  462171              PGC1894795 1894795 ...      L2  462171  north\n",
       " 1371413 SDSSJ150625.84+305821.2 4012714 ...      L2 1371413  north\n",
       "  595523              PGC1922094 1922120 ...      L2  595523  north\n",
       "  840119 SDSSJ151418.44+345836.9 4012783 ...      L2  840119  north\n",
       " 1294129 SDSSJ150553.63+334621.1 4005415 ...      L2 1294129  north\n",
       " 1145374 SDSSJ145933.78+325040.0 4541143 ...      L2 1145374  north\n",
       "  385434 SDSSJ151755.64+314119.0 4005695 ...      L2  385434  north\n",
       "  571417 SDSSJ144941.27+301925.3 4434422 ...      L2  571417  north\n",
       "  278113              PGC1913303 1913303 ...      L2  278113  north\n",
       "     ...                     ...     ... ...     ...     ...    ...\n",
       "  276432              PGC2806932 2806932 ...      L2  276432  south\n",
       "  368539              PGC1714053 1714053 ...      L2  368539  south\n",
       "  856292               PGC052850   52850 ...      L2  856292  south\n",
       "  295018              PGC1478985 1478985 ...      L2  295018  south\n",
       "  125618               PGC053021   53021 ...      L2  125618  south\n",
       "  361276               PGC053122   53122 ...      L2  361276  south\n",
       "  874726               PGC053338   53338 ...      L2  874726  south\n",
       "  309778              PGC1527332 1527332 ...      L2  309778  south\n",
       "   45896              PGC1480322 1480322 ...      L2   45896  south\n",
       " 1010435              PGC1590568 1590568 ...      L2 1010435  south"
      ]
     },
     "execution_count": 58,
     "metadata": {},
     "output_type": "execute_result"
    }
   ],
   "source": [
    "ww = [tt.strip() == 'REX' for tt in cat['TYPE']]\n",
    "cat[ww]"
   ]
  },
  {
   "cell_type": "markdown",
   "metadata": {},
   "source": [
    "#### Test out the code for adding this catalog as a separate layer"
   ]
  },
  {
   "cell_type": "code",
   "execution_count": 73,
   "metadata": {},
   "outputs": [],
   "source": [
    "from astrometry.util.fits import fits_table\n",
    "T = fits_table(os.path.join(outdir, 'dr8-lslga-northsouth.fits'))"
   ]
  },
  {
   "cell_type": "code",
   "execution_count": 96,
   "metadata": {},
   "outputs": [],
   "source": [
    "def get_ba_pa(e1, e2):\n",
    "    ee = np.hypot(e1, e2)\n",
    "    ba = (1 - ee) / (1 + ee)\n",
    "    #pa = -np.rad2deg(np.arctan2(e2, e1) / 2)\n",
    "    pa = 180 - (-np.rad2deg(np.arctan2(e2, e1) / 2))\n",
    "    return ba, pa\n",
    "\n",
    "def lslga_model(T):\n",
    "    ba, pa = [], []\n",
    "    for Tone in T:\n",
    "        ttype = Tone.type.strip()\n",
    "        if ttype == 'DEV' or ttype == 'COMP':\n",
    "            e1, e2 = Tone.shapedev_e1, Tone.shapedev_e2\n",
    "            _ba, _pa = get_ba_pa(e1, e2)\n",
    "        elif ttype == 'EXP' or ttype == 'REX':\n",
    "            e1, e2 = Tone.shapeexp_e1, Tone.shapeexp_e2\n",
    "            _ba, _pa = get_ba_pa(e1, e2)\n",
    "        else: # PSF\n",
    "            _ba, _pa = np.nan, np.nan \n",
    "        ba.append(_ba)\n",
    "        pa.append(_pa)\n",
    "    T.ba_model = np.hstack(ba)\n",
    "    T.pa_model = np.hstack(pa)\n",
    "    T.radius_model_arcsec = T.fracdev * T.shapedev_r + (1 - T.fracdev) * T.shapeexp_r\n",
    "    T.radius_arcsec = T.d25 / 2. * 60.\n",
    "    return T    "
   ]
  },
  {
   "cell_type": "code",
   "execution_count": 97,
   "metadata": {},
   "outputs": [],
   "source": [
    "rr = lslga_model(T[:10])"
   ]
  },
  {
   "cell_type": "code",
   "execution_count": 98,
   "metadata": {},
   "outputs": [
    {
     "data": {
      "text/plain": [
       "(array([10.892342, 13.095474, 16.87024 , 19.147905, 10.165323, 28.981527,\n",
       "        10.133269, 10.644402, 18.076786, 17.66531 ], dtype=float32),\n",
       " array([ 4.4602566, 52.381897 , 10.616065 , 14.9058695,  4.19832  ,\n",
       "        10.594269 ,  4.775446 ,  3.208745 ,  8.014689 , 10.171474 ],\n",
       "       dtype=float32))"
      ]
     },
     "execution_count": 98,
     "metadata": {},
     "output_type": "execute_result"
    }
   ],
   "source": [
    "rr.pa, rr.pa_model\n",
    "rr.ba, rr.ba_model\n",
    "rr.radius_arcsec, rr.radius_arcsec_model"
   ]
  },
  {
   "cell_type": "code",
   "execution_count": null,
   "metadata": {},
   "outputs": [],
   "source": []
  }
 ],
 "metadata": {
  "kernelspec": {
   "display_name": "legacypipe master",
   "language": "python",
   "name": "legacypipe-master"
  },
  "language_info": {
   "codemirror_mode": {
    "name": "ipython",
    "version": 3
   },
   "file_extension": ".py",
   "mimetype": "text/x-python",
   "name": "python",
   "nbconvert_exporter": "python",
   "pygments_lexer": "ipython3",
   "version": "3.6.6"
  }
 },
 "nbformat": 4,
 "nbformat_minor": 4
}
